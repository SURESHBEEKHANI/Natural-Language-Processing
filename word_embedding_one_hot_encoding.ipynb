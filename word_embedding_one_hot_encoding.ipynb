{
  "nbformat": 4,
  "nbformat_minor": 0,
  "metadata": {
    "colab": {
      "private_outputs": true,
      "provenance": [],
      "toc_visible": true,
      "authorship_tag": "ABX9TyMrGCyVlwvpWFMuCv1Ucp8G",
      "include_colab_link": true
    },
    "kernelspec": {
      "name": "python3",
      "display_name": "Python 3"
    },
    "language_info": {
      "name": "python"
    }
  },
  "cells": [
    {
      "cell_type": "markdown",
      "metadata": {
        "id": "view-in-github",
        "colab_type": "text"
      },
      "source": [
        "<a href=\"https://colab.research.google.com/github/SURESHBEEKHANI/Natural-Language-Processing/blob/main/word_embedding_one_hot_encoding.ipynb\" target=\"_parent\"><img src=\"https://colab.research.google.com/assets/colab-badge.svg\" alt=\"Open In Colab\"/></a>"
      ]
    },
    {
      "cell_type": "code",
      "source": [
        "# Importing the one_hot function from the one_hot module of keras.preprocessing.text\n",
        "from tensorflow.keras.preprocessing.text import one_hot\n",
        "\n",
        "# Usage of one_hot:\n",
        "# This function converts text into a list of integers, where each integer represents\n",
        "# the index of a word in a predefined dictionary.\n",
        "# It takes two main arguments: the text to encode and the size of the vocabulary.\n",
        "# Returns a list of integers (encoded representation of the text).\n",
        "\n",
        "# Example usage:\n",
        "# text = \"Hello world\"\n",
        "# vocab_size = 50\n",
        "# encoded_text = one_hot(text, vocab_size)\n",
        "# print(encoded_text)\n"
      ],
      "metadata": {
        "id": "8oHX2fXhv6wc"
      },
      "execution_count": null,
      "outputs": []
    },
    {
      "cell_type": "code",
      "source": [
        "# Define a list of sentences to be encoded\n",
        "sentences = [\n",
        "    \"Deep learning models are powerful tools\",\n",
        "    \"Artificial intelligence is transforming industries\",\n",
        "    \"Data science involves statistics and programming\",\n",
        "    \"Machine learning enables predictive analytics\",\n",
        "    \"Neural networks are inspired by the human brain\",\n",
        "    \"Big data is essential for modern analytics\",\n",
        "    \"Natural language processing is a key AI component\"\n",
        "]"
      ],
      "metadata": {
        "id": "t4pzzlCuwWoY"
      },
      "execution_count": null,
      "outputs": []
    },
    {
      "cell_type": "code",
      "source": [
        "# Define the size of the vocabulary (vocab_size)\n",
        "# Vocab size is the total number of unique words the model can handle.\n",
        "vocab_size = 10000"
      ],
      "metadata": {
        "id": "EreNelaFxWno"
      },
      "execution_count": null,
      "outputs": []
    },
    {
      "cell_type": "markdown",
      "source": [
        "# **One_hot_encoding**"
      ],
      "metadata": {
        "id": "Jd_5mHQWxsmV"
      }
    },
    {
      "cell_type": "code",
      "source": [
        "# Use the one_hot function to create a one-hot representation of each sentence\n",
        "onehot_rep = [one_hot(sentence, vocab_size) for sentence in sentences]\n",
        "\n",
        "# Print the one-hot representations\n",
        "print(onehot_rep)"
      ],
      "metadata": {
        "id": "82s2IGNZyyjU"
      },
      "execution_count": null,
      "outputs": []
    }
  ]
}