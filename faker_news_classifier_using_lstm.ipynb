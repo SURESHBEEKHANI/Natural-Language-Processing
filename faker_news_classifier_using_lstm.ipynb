{
  "nbformat": 4,
  "nbformat_minor": 0,
  "metadata": {
    "colab": {
      "private_outputs": true,
      "provenance": [],
      "authorship_tag": "ABX9TyMbx7mGp2/3o+v/elsQsthC",
      "include_colab_link": true
    },
    "kernelspec": {
      "name": "python3",
      "display_name": "Python 3"
    },
    "language_info": {
      "name": "python"
    }
  },
  "cells": [
    {
      "cell_type": "markdown",
      "metadata": {
        "id": "view-in-github",
        "colab_type": "text"
      },
      "source": [
        "<a href=\"https://colab.research.google.com/github/SURESHBEEKHANI/Natural-Language-Processing/blob/main/faker_news_classifier_using_lstm.ipynb\" target=\"_parent\"><img src=\"https://colab.research.google.com/assets/colab-badge.svg\" alt=\"Open In Colab\"/></a>"
      ]
    },
    {
      "cell_type": "markdown",
      "source": [
        "# fake news classification"
      ],
      "metadata": {
        "id": "-QEAG-TbOr-H"
      }
    },
    {
      "cell_type": "code",
      "execution_count": null,
      "metadata": {
        "id": "RHb9FlVAEFvy"
      },
      "outputs": [],
      "source": [
        "# Importing the Pandas library as 'pd' to work with datasets\n",
        "import pandas as pd\n"
      ]
    },
    {
      "cell_type": "code",
      "source": [
        "# Load the dataset from a CSV file\n",
        "data = pd.read_csv('/content/train.csv')"
      ],
      "metadata": {
        "id": "1hfVCl4sOU-W"
      },
      "execution_count": null,
      "outputs": []
    },
    {
      "cell_type": "code",
      "source": [
        "# Show the first 5 rows of the dataset\n",
        "data.head(5)"
      ],
      "metadata": {
        "id": "cYtYU68fOf1Y"
      },
      "execution_count": null,
      "outputs": []
    },
    {
      "cell_type": "code",
      "source": [
        "# Display information about the dataset\n",
        "data.info()"
      ],
      "metadata": {
        "id": "FBYM-dw6Pdpe"
      },
      "execution_count": null,
      "outputs": []
    },
    {
      "cell_type": "code",
      "source": [
        "# Display the dimensions of the dataset (rows, columns)\n",
        "data.shape\n"
      ],
      "metadata": {
        "id": "ktb5z1NqPZyq"
      },
      "execution_count": null,
      "outputs": []
    },
    {
      "cell_type": "code",
      "source": [
        "# Check for null values in the dataset\n",
        "data.isnull().sum()"
      ],
      "metadata": {
        "id": "ojsCy9kPTNc1"
      },
      "execution_count": null,
      "outputs": []
    },
    {
      "cell_type": "code",
      "source": [
        "# Remove rows with null values from the dataset\n",
        "data = data.dropna()"
      ],
      "metadata": {
        "id": "09Z0PZIhTnKN"
      },
      "execution_count": null,
      "outputs": []
    },
    {
      "cell_type": "code",
      "source": [
        "# Check for null values in the dataset\n",
        "data.isnull().sum()"
      ],
      "metadata": {
        "id": "dZxW4IOpT392"
      },
      "execution_count": null,
      "outputs": []
    },
    {
      "cell_type": "code",
      "source": [
        "# Display the dimensions of the dataset (rows, columns)\n",
        "data.shape\n"
      ],
      "metadata": {
        "id": "RSd2qFENTx0K"
      },
      "execution_count": null,
      "outputs": []
    }
  ]
}